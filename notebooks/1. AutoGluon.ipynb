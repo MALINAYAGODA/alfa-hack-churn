{
 "cells": [
  {
   "cell_type": "code",
   "execution_count": null,
   "id": "f031abf5",
   "metadata": {
    "_cell_guid": "b1076dfc-b9ad-4769-8c92-a6c4dae69d19",
    "_uuid": "8f2839f25d086af736a60e9eeb907d3b93b6e0e5",
    "execution": {
     "iopub.execute_input": "2024-11-11T16:45:51.581424Z",
     "iopub.status.busy": "2024-11-11T16:45:51.580988Z",
     "iopub.status.idle": "2024-11-11T16:45:55.547313Z",
     "shell.execute_reply": "2024-11-11T16:45:55.545981Z"
    },
    "papermill": {
     "duration": 3.976016,
     "end_time": "2024-11-11T16:45:55.550457",
     "exception": false,
     "start_time": "2024-11-11T16:45:51.574441",
     "status": "completed"
    },
    "tags": []
   },
   "outputs": [],
   "source": [
    "import glob\n",
    "import os\n",
    "from catboost.utils import get_gpu_device_count\n",
    "import pandas as pd\n",
    "import numpy as np"
   ]
  },
  {
   "cell_type": "code",
   "execution_count": 2,
   "id": "2b704620",
   "metadata": {
    "execution": {
     "iopub.execute_input": "2024-11-11T16:45:55.562904Z",
     "iopub.status.busy": "2024-11-11T16:45:55.561616Z",
     "iopub.status.idle": "2024-11-11T16:45:55.575121Z",
     "shell.execute_reply": "2024-11-11T16:45:55.573930Z"
    },
    "papermill": {
     "duration": 0.022606,
     "end_time": "2024-11-11T16:45:55.578153",
     "exception": false,
     "start_time": "2024-11-11T16:45:55.555547",
     "status": "completed"
    },
    "tags": []
   },
   "outputs": [
    {
     "name": "stderr",
     "output_type": "stream",
     "text": [
      "Error 35 (CUDA driver version is insufficient for CUDA runtime version) ignored while obtaining device count\n"
     ]
    },
    {
     "data": {
      "text/plain": [
       "'CPU'"
      ]
     },
     "execution_count": 2,
     "metadata": {},
     "output_type": "execute_result"
    }
   ],
   "source": [
    "is_gpu_available = get_gpu_device_count()\n",
    "device = 'GPU' if is_gpu_available else 'CPU'\n",
    "\n",
    "device"
   ]
  },
  {
   "cell_type": "code",
   "execution_count": 3,
   "id": "01bdc570",
   "metadata": {
    "execution": {
     "iopub.execute_input": "2024-11-11T16:45:55.590387Z",
     "iopub.status.busy": "2024-11-11T16:45:55.589927Z",
     "iopub.status.idle": "2024-11-11T16:45:55.596376Z",
     "shell.execute_reply": "2024-11-11T16:45:55.594607Z"
    },
    "papermill": {
     "duration": 0.016454,
     "end_time": "2024-11-11T16:45:55.599551",
     "exception": false,
     "start_time": "2024-11-11T16:45:55.583097",
     "status": "completed"
    },
    "tags": []
   },
   "outputs": [],
   "source": [
    "TRAIN_PATH = r'/kaggle/input/ottok-alpha/Кейс-3. Отток юридических лиц из расчетно-кассового обслуживания/train'\n",
    "TEST_PATH = r'/kaggle/input/ottok-alpha/Кейс-3. Отток юридических лиц из расчетно-кассового обслуживания/test'"
   ]
  },
  {
   "cell_type": "code",
   "execution_count": 4,
   "id": "8ba3267d",
   "metadata": {
    "execution": {
     "iopub.execute_input": "2024-11-11T16:45:55.610909Z",
     "iopub.status.busy": "2024-11-11T16:45:55.610473Z",
     "iopub.status.idle": "2024-11-11T16:46:34.782711Z",
     "shell.execute_reply": "2024-11-11T16:46:34.781341Z"
    },
    "papermill": {
     "duration": 39.181508,
     "end_time": "2024-11-11T16:46:34.785924",
     "exception": false,
     "start_time": "2024-11-11T16:45:55.604416",
     "status": "completed"
    },
    "tags": []
   },
   "outputs": [],
   "source": [
    "def get_data(path):\n",
    "    filenames_train = glob.glob(path + '/*.csv')\n",
    "    data_files_train = []\n",
    "    \n",
    "    for filename in filenames_train:\n",
    "        data_files_train.append(pd.read_csv(filename))\n",
    "\n",
    "    return pd.concat(data_files_train, ignore_index=True)\n",
    "\n",
    "train_df = get_data(TRAIN_PATH)\n",
    "test_df = get_data(TEST_PATH)"
   ]
  },
  {
   "cell_type": "code",
   "execution_count": 5,
   "id": "685c2a2c",
   "metadata": {
    "execution": {
     "iopub.execute_input": "2024-11-11T16:46:34.797915Z",
     "iopub.status.busy": "2024-11-11T16:46:34.797487Z",
     "iopub.status.idle": "2024-11-11T16:46:34.813306Z",
     "shell.execute_reply": "2024-11-11T16:46:34.811930Z"
    },
    "papermill": {
     "duration": 0.024763,
     "end_time": "2024-11-11T16:46:34.816082",
     "exception": false,
     "start_time": "2024-11-11T16:46:34.791319",
     "status": "completed"
    },
    "tags": []
   },
   "outputs": [],
   "source": [
    "ids = test_df['id'].tolist()"
   ]
  },
  {
   "cell_type": "code",
   "execution_count": 6,
   "id": "3641d7ac",
   "metadata": {
    "execution": {
     "iopub.execute_input": "2024-11-11T16:46:34.827668Z",
     "iopub.status.busy": "2024-11-11T16:46:34.827283Z",
     "iopub.status.idle": "2024-11-11T16:46:34.834291Z",
     "shell.execute_reply": "2024-11-11T16:46:34.833142Z"
    },
    "papermill": {
     "duration": 0.015435,
     "end_time": "2024-11-11T16:46:34.836752",
     "exception": false,
     "start_time": "2024-11-11T16:46:34.821317",
     "status": "completed"
    },
    "tags": []
   },
   "outputs": [],
   "source": [
    "f = ['feature_168', 'feature_87', 'feature_72', 'feature_124', 'feature_141',\n",
    "       'feature_29', 'feature_55', 'feature_142', 'feature_78', 'feature_183',\n",
    "       'feature_84', 'feature_146', 'feature_134', 'feature_26', 'feature_12',\n",
    "       'feature_127', 'feature_59', 'feature_100', 'feature_96', 'feature_112',\n",
    "       'feature_169', 'feature_16', 'feature_76', 'feature_81', 'feature_79',\n",
    "       'feature_22', 'feature_152', 'feature_43', 'feature_20', 'feature_18',\n",
    "       'feature_44', 'id', 'feature_177', 'feature_50', 'feature_6',\n",
    "       'feature_66', 'feature_9', 'feature_46', 'feature_103', 'feature_75',\n",
    "       'feature_8', 'feature_36', 'feature_41', 'feature_184', 'feature_62',\n",
    "       'feature_95', 'feature_133', 'feature_28', 'feature_108', 'feature_128',\n",
    "       'feature_117', 'feature_161', 'feature_157', 'feature_107',\n",
    "       'feature_147']"
   ]
  },
  {
   "cell_type": "code",
   "execution_count": 7,
   "id": "10bcf034",
   "metadata": {
    "execution": {
     "iopub.execute_input": "2024-11-11T16:46:34.848434Z",
     "iopub.status.busy": "2024-11-11T16:46:34.847980Z",
     "iopub.status.idle": "2024-11-11T16:46:34.954507Z",
     "shell.execute_reply": "2024-11-11T16:46:34.952747Z"
    },
    "papermill": {
     "duration": 0.116137,
     "end_time": "2024-11-11T16:46:34.957665",
     "exception": false,
     "start_time": "2024-11-11T16:46:34.841528",
     "status": "completed"
    },
    "tags": []
   },
   "outputs": [],
   "source": [
    "train_df = train_df[f + ['target']]\n",
    "test_df = test_df[f]"
   ]
  },
  {
   "cell_type": "code",
   "execution_count": 8,
   "id": "202dad80",
   "metadata": {
    "execution": {
     "iopub.execute_input": "2024-11-11T16:46:34.969625Z",
     "iopub.status.busy": "2024-11-11T16:46:34.969168Z",
     "iopub.status.idle": "2024-11-11T16:46:35.056323Z",
     "shell.execute_reply": "2024-11-11T16:46:35.054993Z"
    },
    "papermill": {
     "duration": 0.096655,
     "end_time": "2024-11-11T16:46:35.059421",
     "exception": false,
     "start_time": "2024-11-11T16:46:34.962766",
     "status": "completed"
    },
    "tags": []
   },
   "outputs": [
    {
     "name": "stderr",
     "output_type": "stream",
     "text": [
      "/opt/conda/lib/python3.10/site-packages/pandas/core/arraylike.py:399: RuntimeWarning: invalid value encountered in log1p\n",
      "  result = getattr(ufunc, method)(*inputs, **kwargs)\n",
      "/opt/conda/lib/python3.10/site-packages/pandas/core/arraylike.py:399: RuntimeWarning: invalid value encountered in log1p\n",
      "  result = getattr(ufunc, method)(*inputs, **kwargs)\n"
     ]
    }
   ],
   "source": [
    "feature_operations = {\n",
    "    'atan_feature_112': ('feature_112', np.arctan),\n",
    "    'log_feature_26': ('feature_26', np.log1p),\n",
    "    'sin_feature_26': ('feature_26', np.sin),\n",
    "    'tan_feature_26': ('feature_26', np.tan)\n",
    "}\n",
    "\n",
    "for new_feature, (base_feature, operation) in feature_operations.items():\n",
    "    train_df[new_feature] = operation(train_df[base_feature])\n",
    "    test_df[new_feature] = operation(test_df[base_feature])"
   ]
  },
  {
   "cell_type": "code",
   "execution_count": null,
   "id": "e3179307",
   "metadata": {},
   "outputs": [],
   "source": [
    "!pip install \"autogluon==1.1.1\""
   ]
  },
  {
   "cell_type": "code",
   "execution_count": null,
   "id": "b223954f",
   "metadata": {},
   "outputs": [],
   "source": [
    "!pip install \"scikit_learn==1.2.2\""
   ]
  },
  {
   "cell_type": "code",
   "execution_count": 11,
   "id": "f15c7ddd",
   "metadata": {
    "execution": {
     "iopub.execute_input": "2024-11-11T16:51:25.997894Z",
     "iopub.status.busy": "2024-11-11T16:51:25.997280Z",
     "iopub.status.idle": "2024-11-11T16:51:27.385511Z",
     "shell.execute_reply": "2024-11-11T16:51:27.384168Z"
    },
    "papermill": {
     "duration": 1.417036,
     "end_time": "2024-11-11T16:51:27.388661",
     "exception": false,
     "start_time": "2024-11-11T16:51:25.971625",
     "status": "completed"
    },
    "tags": []
   },
   "outputs": [],
   "source": [
    "from autogluon.tabular import TabularDataset, TabularPredictor"
   ]
  },
  {
   "cell_type": "code",
   "execution_count": 12,
   "id": "b8324f9f",
   "metadata": {
    "execution": {
     "iopub.execute_input": "2024-11-11T16:51:27.443933Z",
     "iopub.status.busy": "2024-11-11T16:51:27.441999Z",
     "iopub.status.idle": "2024-11-11T16:51:27.449490Z",
     "shell.execute_reply": "2024-11-11T16:51:27.448121Z"
    },
    "papermill": {
     "duration": 0.038608,
     "end_time": "2024-11-11T16:51:27.452188",
     "exception": false,
     "start_time": "2024-11-11T16:51:27.413580",
     "status": "completed"
    },
    "tags": []
   },
   "outputs": [],
   "source": [
    "train_tab = TabularDataset(train_df)\n",
    "test_tab = TabularDataset(test_df)"
   ]
  },
  {
   "cell_type": "code",
   "execution_count": 13,
   "id": "52cfefb1",
   "metadata": {
    "collapsed": true,
    "execution": {
     "iopub.execute_input": "2024-11-11T16:51:27.503573Z",
     "iopub.status.busy": "2024-11-11T16:51:27.503102Z",
     "iopub.status.idle": "2024-11-11T19:46:42.593328Z",
     "shell.execute_reply": "2024-11-11T19:46:42.590983Z"
    },
    "jupyter": {
     "outputs_hidden": true
    },
    "papermill": {
     "duration": 10515.120933,
     "end_time": "2024-11-11T19:46:42.598132",
     "exception": false,
     "start_time": "2024-11-11T16:51:27.477199",
     "status": "completed"
    },
    "tags": []
   },
   "outputs": [
    {
     "name": "stderr",
     "output_type": "stream",
     "text": [
      "No path specified. Models will be saved in: \"AutogluonModels/ag-20241111_165127\"\n",
      "Verbosity: 2 (Standard Logging)\n",
      "=================== System Info ===================\n",
      "AutoGluon Version:  1.1.1\n",
      "Python Version:     3.10.14\n",
      "Operating System:   Linux\n",
      "Platform Machine:   x86_64\n",
      "Platform Version:   #1 SMP Thu Jun 27 20:43:36 UTC 2024\n",
      "CPU Count:          4\n",
      "Memory Avail:       29.94 GB / 31.36 GB (95.5%)\n",
      "Disk Space Avail:   19.50 GB / 19.52 GB (99.9%)\n",
      "===================================================\n",
      "Presets specified: ['best_quality']\n",
      "Setting dynamic_stacking from 'auto' to True. Reason: Enable dynamic_stacking when use_bag_holdout is disabled. (use_bag_holdout=False)\n",
      "Stack configuration (auto_stack=True): num_stack_levels=1, num_bag_folds=8, num_bag_sets=1\n",
      "DyStack is enabled (dynamic_stacking=True). AutoGluon will try to determine whether the input data is affected by stacked overfitting and enable or disable stacking as a consequence.\n",
      "\tThis is used to identify the optimal `num_stack_levels` value. Copies of AutoGluon will be fit on subsets of the data. Then holdout validation data is used to detect stacked overfitting.\n",
      "\tRunning DyStack for up to 9900s of the 39600s of remaining time (25%).\n",
      "2024-11-11 16:51:27,912\tINFO util.py:124 -- Outdated packages:\n",
      "  ipywidgets==7.7.1 found, needs ipywidgets>=8\n",
      "Run `pip install -U ipywidgets`, then restart the notebook server for rich notebook output.\n",
      "\tRunning DyStack sub-fit in a ray process to avoid memory leakage. Enabling ray logging (enable_ray_logging=True). Specify `ds_args={'enable_ray_logging': False}` if you experience logging issues.\n",
      "2024-11-11 16:51:32,270\tINFO worker.py:1743 -- Started a local Ray instance. View the dashboard at \u001b[1m\u001b[32m127.0.0.1:8265 \u001b[39m\u001b[22m\n",
      "\t\tContext path: \"AutogluonModels/ag-20241111_165127/ds_sub_fit/sub_fit_ho\"\n",
      "\u001b[36m(_dystack pid=193)\u001b[0m Running DyStack sub-fit ...\n",
      "\u001b[36m(_dystack pid=193)\u001b[0m Beginning AutoGluon training ... Time limit = 9894s\n",
      "\u001b[36m(_dystack pid=193)\u001b[0m AutoGluon will save models to \"AutogluonModels/ag-20241111_165127/ds_sub_fit/sub_fit_ho\"\n",
      "\u001b[36m(_dystack pid=193)\u001b[0m Train Data Rows:    367283\n",
      "\u001b[36m(_dystack pid=193)\u001b[0m Train Data Columns: 59\n",
      "\u001b[36m(_dystack pid=193)\u001b[0m Label Column:       target\n",
      "\u001b[36m(_dystack pid=193)\u001b[0m Problem Type:       binary\n",
      "\u001b[36m(_dystack pid=193)\u001b[0m Preprocessing data ...\n",
      "\u001b[36m(_dystack pid=193)\u001b[0m Selected class <--> label mapping:  class 1 = 1, class 0 = 0\n",
      "\u001b[36m(_dystack pid=193)\u001b[0m Using Feature Generators to preprocess the data ...\n",
      "\u001b[36m(_dystack pid=193)\u001b[0m Fitting AutoMLPipelineFeatureGenerator...\n",
      "\u001b[36m(_dystack pid=193)\u001b[0m \tAvailable Memory:                    29793.39 MB\n",
      "\u001b[36m(_dystack pid=193)\u001b[0m \tTrain Data (Original)  Memory Usage: 165.33 MB (0.6% of available memory)\n",
      "\u001b[36m(_dystack pid=193)\u001b[0m \tInferring data type of each feature based on column values. Set feature_metadata_in to manually specify special dtypes of the features.\n",
      "\u001b[36m(_dystack pid=193)\u001b[0m \tStage 1 Generators:\n",
      "\u001b[36m(_dystack pid=193)\u001b[0m \t\tFitting AsTypeFeatureGenerator...\n",
      "\u001b[36m(_dystack pid=193)\u001b[0m \tStage 2 Generators:\n",
      "\u001b[36m(_dystack pid=193)\u001b[0m \t\tFitting FillNaFeatureGenerator...\n",
      "\u001b[36m(_dystack pid=193)\u001b[0m \tStage 3 Generators:\n",
      "\u001b[36m(_dystack pid=193)\u001b[0m \t\tFitting IdentityFeatureGenerator...\n",
      "\u001b[36m(_dystack pid=193)\u001b[0m \tStage 4 Generators:\n",
      "\u001b[36m(_dystack pid=193)\u001b[0m \t\tFitting DropUniqueFeatureGenerator...\n",
      "\u001b[36m(_dystack pid=193)\u001b[0m \tStage 5 Generators:\n",
      "\u001b[36m(_dystack pid=193)\u001b[0m \t\tFitting DropDuplicatesFeatureGenerator...\n",
      "\u001b[36m(_dystack pid=193)\u001b[0m \tTypes of features in original data (raw dtype, special dtypes):\n",
      "\u001b[36m(_dystack pid=193)\u001b[0m \t\t('float', []) : 58 | ['feature_168', 'feature_87', 'feature_72', 'feature_124', 'feature_141', ...]\n",
      "\u001b[36m(_dystack pid=193)\u001b[0m \t\t('int', [])   :  1 | ['id']\n",
      "\u001b[36m(_dystack pid=193)\u001b[0m \tTypes of features in processed data (raw dtype, special dtypes):\n",
      "\u001b[36m(_dystack pid=193)\u001b[0m \t\t('float', []) : 58 | ['feature_168', 'feature_87', 'feature_72', 'feature_124', 'feature_141', ...]\n",
      "\u001b[36m(_dystack pid=193)\u001b[0m \t\t('int', [])   :  1 | ['id']\n",
      "\u001b[36m(_dystack pid=193)\u001b[0m \t5.1s = Fit runtime\n",
      "\u001b[36m(_dystack pid=193)\u001b[0m \t59 features in original data used to generate 59 features in processed data.\n",
      "\u001b[36m(_dystack pid=193)\u001b[0m \tTrain Data (Processed) Memory Usage: 165.33 MB (0.6% of available memory)\n",
      "\u001b[36m(_dystack pid=193)\u001b[0m Data preprocessing and feature engineering runtime = 5.62s ...\n",
      "\u001b[36m(_dystack pid=193)\u001b[0m AutoGluon will gauge predictive performance using evaluation metric: 'roc_auc'\n",
      "\u001b[36m(_dystack pid=193)\u001b[0m \tThis metric expects predicted probabilities rather than predicted class labels, so you'll need to use predict_proba() instead of predict()\n",
      "\u001b[36m(_dystack pid=193)\u001b[0m \tTo change this, specify the eval_metric parameter of Predictor()\n",
      "\u001b[36m(_dystack pid=193)\u001b[0m User-specified model hyperparameters to be fit:\n",
      "\u001b[36m(_dystack pid=193)\u001b[0m {\n",
      "\u001b[36m(_dystack pid=193)\u001b[0m \t'CAT': {'auto_class_weights': 'Balanced'},\n",
      "\u001b[36m(_dystack pid=193)\u001b[0m \t'GBM': [{'extra_trees': True, 'ag_args': {'name_suffix': 'XT'}}, {}, 'GBMLarge'],\n",
      "\u001b[36m(_dystack pid=193)\u001b[0m \t'XGB': {},\n",
      "\u001b[36m(_dystack pid=193)\u001b[0m }\n",
      "\u001b[36m(_dystack pid=193)\u001b[0m AutoGluon will fit 2 stack levels (L1 to L2) ...\n",
      "\u001b[36m(_dystack pid=193)\u001b[0m Fitting 5 L1 models ...\n",
      "\u001b[36m(_dystack pid=193)\u001b[0m Fitting model: LightGBMXT_BAG_L1 ... Training model for up to 6590.37s of the 9888.02s of remaining time.\n",
      "\u001b[36m(_dystack pid=193)\u001b[0m \tFitting 8 child models (S1F1 - S1F8) | Fitting with ParallelLocalFoldFittingStrategy (4 workers, per: cpus=1, gpus=0, memory=3.76%)\n",
      "\u001b[36m(_dystack pid=193)\u001b[0m \t0.8106\t = Validation score   (roc_auc)\n",
      "\u001b[36m(_dystack pid=193)\u001b[0m \t1145.59s\t = Training   runtime\n",
      "\u001b[36m(_dystack pid=193)\u001b[0m \t47.09s\t = Validation runtime\n",
      "\u001b[36m(_dystack pid=193)\u001b[0m Fitting model: LightGBM_BAG_L1 ... Training model for up to 5432.62s of the 8730.27s of remaining time.\n",
      "\u001b[36m(_dystack pid=193)\u001b[0m \tFitting 8 child models (S1F1 - S1F8) | Fitting with ParallelLocalFoldFittingStrategy (4 workers, per: cpus=1, gpus=0, memory=3.78%)\n",
      "\u001b[36m(_dystack pid=193)\u001b[0m \t0.8094\t = Validation score   (roc_auc)\n",
      "\u001b[36m(_dystack pid=193)\u001b[0m \t596.87s\t = Training   runtime\n",
      "\u001b[36m(_dystack pid=193)\u001b[0m \t17.28s\t = Validation runtime\n",
      "\u001b[36m(_dystack pid=193)\u001b[0m Fitting model: CatBoost_BAG_L1 ... Training model for up to 4828.04s of the 8125.69s of remaining time.\n",
      "\u001b[36m(_dystack pid=193)\u001b[0m \tFitting 8 child models (S1F1 - S1F8) | Fitting with ParallelLocalFoldFittingStrategy (4 workers, per: cpus=1, gpus=0, memory=3.81%)\n",
      "\u001b[36m(_dystack pid=193)\u001b[0m \t0.8115\t = Validation score   (roc_auc)\n",
      "\u001b[36m(_dystack pid=193)\u001b[0m \t647.09s\t = Training   runtime\n",
      "\u001b[36m(_dystack pid=193)\u001b[0m \t0.65s\t = Validation runtime\n",
      "\u001b[36m(_dystack pid=193)\u001b[0m Fitting model: XGBoost_BAG_L1 ... Training model for up to 4174.14s of the 7471.79s of remaining time.\n",
      "\u001b[36m(_dystack pid=193)\u001b[0m \tFitting 8 child models (S1F1 - S1F8) | Fitting with ParallelLocalFoldFittingStrategy (4 workers, per: cpus=1, gpus=0, memory=4.96%)\n",
      "\u001b[36m(_dystack pid=193)\u001b[0m \t0.8105\t = Validation score   (roc_auc)\n",
      "\u001b[36m(_dystack pid=193)\u001b[0m \t127.28s\t = Training   runtime\n",
      "\u001b[36m(_dystack pid=193)\u001b[0m \t6.27s\t = Validation runtime\n",
      "\u001b[36m(_dystack pid=193)\u001b[0m Fitting model: LightGBMLarge_BAG_L1 ... Training model for up to 4039.52s of the 7337.17s of remaining time.\n",
      "\u001b[36m(_dystack pid=193)\u001b[0m \tFitting 8 child models (S1F1 - S1F8) | Fitting with ParallelLocalFoldFittingStrategy (4 workers, per: cpus=1, gpus=0, memory=3.90%)\n",
      "\u001b[36m(_dystack pid=193)\u001b[0m \t0.8105\t = Validation score   (roc_auc)\n",
      "\u001b[36m(_dystack pid=193)\u001b[0m \t722.01s\t = Training   runtime\n",
      "\u001b[36m(_dystack pid=193)\u001b[0m \t25.1s\t = Validation runtime\n",
      "\u001b[36m(_dystack pid=193)\u001b[0m Fitting model: WeightedEnsemble_L2 ... Training model for up to 659.04s of the 6606.31s of remaining time.\n",
      "\u001b[36m(_dystack pid=193)\u001b[0m \tEnsemble Weights: {'LightGBMLarge_BAG_L1': 0.421, 'LightGBMXT_BAG_L1': 0.211, 'XGBoost_BAG_L1': 0.211, 'CatBoost_BAG_L1': 0.158}\n",
      "\u001b[36m(_dystack pid=193)\u001b[0m \t0.8135\t = Validation score   (roc_auc)\n",
      "\u001b[36m(_dystack pid=193)\u001b[0m \t11.86s\t = Training   runtime\n",
      "\u001b[36m(_dystack pid=193)\u001b[0m \t0.08s\t = Validation runtime\n",
      "\u001b[36m(_dystack pid=193)\u001b[0m Fitting 5 L2 models ...\n",
      "\u001b[36m(_dystack pid=193)\u001b[0m Fitting model: LightGBMXT_BAG_L2 ... Training model for up to 6594.33s of the 6594.22s of remaining time.\n",
      "\u001b[36m(_dystack pid=193)\u001b[0m \tFitting 8 child models (S1F1 - S1F8) | Fitting with ParallelLocalFoldFittingStrategy (4 workers, per: cpus=1, gpus=0, memory=3.97%)\n",
      "\u001b[36m(_dystack pid=193)\u001b[0m \t0.8135\t = Validation score   (roc_auc)\n",
      "\u001b[36m(_dystack pid=193)\u001b[0m \t374.98s\t = Training   runtime\n",
      "\u001b[36m(_dystack pid=193)\u001b[0m \t8.39s\t = Validation runtime\n",
      "\u001b[36m(_dystack pid=193)\u001b[0m Fitting model: LightGBM_BAG_L2 ... Training model for up to 6211.41s of the 6211.3s of remaining time.\n",
      "\u001b[36m(_dystack pid=193)\u001b[0m \tFitting 8 child models (S1F1 - S1F8) | Fitting with ParallelLocalFoldFittingStrategy (4 workers, per: cpus=1, gpus=0, memory=3.98%)\n",
      "\u001b[36m(_dystack pid=193)\u001b[0m \t0.8134\t = Validation score   (roc_auc)\n",
      "\u001b[36m(_dystack pid=193)\u001b[0m \t317.29s\t = Training   runtime\n",
      "\u001b[36m(_dystack pid=193)\u001b[0m \t5.24s\t = Validation runtime\n",
      "\u001b[36m(_dystack pid=193)\u001b[0m Fitting model: CatBoost_BAG_L2 ... Training model for up to 5887.36s of the 5887.25s of remaining time.\n",
      "\u001b[36m(_dystack pid=193)\u001b[0m \tFitting 8 child models (S1F1 - S1F8) | Fitting with ParallelLocalFoldFittingStrategy (4 workers, per: cpus=1, gpus=0, memory=4.01%)\n",
      "\u001b[36m(_dystack pid=193)\u001b[0m \t0.8135\t = Validation score   (roc_auc)\n",
      "\u001b[36m(_dystack pid=193)\u001b[0m \t261.67s\t = Training   runtime\n",
      "\u001b[36m(_dystack pid=193)\u001b[0m \t0.55s\t = Validation runtime\n",
      "\u001b[36m(_dystack pid=193)\u001b[0m Fitting model: XGBoost_BAG_L2 ... Training model for up to 5618.89s of the 5618.77s of remaining time.\n",
      "\u001b[36m(_dystack pid=193)\u001b[0m \tFitting 8 child models (S1F1 - S1F8) | Fitting with ParallelLocalFoldFittingStrategy (4 workers, per: cpus=1, gpus=0, memory=5.22%)\n",
      "\u001b[36m(_dystack pid=193)\u001b[0m \t0.8129\t = Validation score   (roc_auc)\n",
      "\u001b[36m(_dystack pid=193)\u001b[0m \t88.11s\t = Training   runtime\n",
      "\u001b[36m(_dystack pid=193)\u001b[0m \t4.67s\t = Validation runtime\n",
      "\u001b[36m(_dystack pid=193)\u001b[0m Fitting model: LightGBMLarge_BAG_L2 ... Training model for up to 5523.26s of the 5523.15s of remaining time.\n",
      "\u001b[36m(_dystack pid=193)\u001b[0m \tFitting 8 child models (S1F1 - S1F8) | Fitting with ParallelLocalFoldFittingStrategy (4 workers, per: cpus=1, gpus=0, memory=4.10%)\n",
      "\u001b[36m(_dystack pid=193)\u001b[0m \t0.8122\t = Validation score   (roc_auc)\n",
      "\u001b[36m(_dystack pid=193)\u001b[0m \t503.65s\t = Training   runtime\n",
      "\u001b[36m(_dystack pid=193)\u001b[0m \t10.83s\t = Validation runtime\n",
      "\u001b[36m(_dystack pid=193)\u001b[0m Fitting model: WeightedEnsemble_L3 ... Training model for up to 659.43s of the 5011.97s of remaining time.\n",
      "\u001b[36m(_dystack pid=193)\u001b[0m \tEnsemble Weights: {'LightGBMXT_BAG_L2': 0.348, 'LightGBM_BAG_L2': 0.304, 'XGBoost_BAG_L2': 0.13, 'LightGBMLarge_BAG_L1': 0.087, 'CatBoost_BAG_L1': 0.043, 'CatBoost_BAG_L2': 0.043, 'LightGBMLarge_BAG_L2': 0.043}\n",
      "\u001b[36m(_dystack pid=193)\u001b[0m \t0.814\t = Validation score   (roc_auc)\n",
      "\u001b[36m(_dystack pid=193)\u001b[0m \t21.86s\t = Training   runtime\n",
      "\u001b[36m(_dystack pid=193)\u001b[0m \t0.16s\t = Validation runtime\n",
      "\u001b[36m(_dystack pid=193)\u001b[0m AutoGluon training complete, total runtime = 4904.52s ... Best model: WeightedEnsemble_L3 | Estimated inference throughput: 364.1 rows/s (45911 batch size)\n",
      "\u001b[36m(_dystack pid=193)\u001b[0m TabularPredictor saved. To load, use: predictor = TabularPredictor.load(\"AutogluonModels/ag-20241111_165127/ds_sub_fit/sub_fit_ho\")\n",
      "\u001b[36m(_dystack pid=193)\u001b[0m Deleting DyStack predictor artifacts (clean_up_fits=True) ...\n",
      "Leaderboard on holdout data (DyStack):\n",
      "                   model  score_holdout  score_val eval_metric  pred_time_test  pred_time_val     fit_time  pred_time_test_marginal  pred_time_val_marginal  fit_time_marginal  stack_level  can_infer  fit_order\n",
      "0   LightGBMLarge_BAG_L2       0.816446   0.812197     roc_auc       22.416233     107.222591  3742.487845                 1.967626               10.829489         503.651615            2       True         11\n",
      "1    WeightedEnsemble_L3       0.816237   0.814036     roc_auc       27.968094     126.230417  4806.403778                 0.007264                0.162534          21.861326            3       True         12\n",
      "2        LightGBM_BAG_L2       0.816001   0.813362     roc_auc       21.522696     101.629702  3556.124008                 1.074090                5.236600         317.287779            2       True          8\n",
      "3         XGBoost_BAG_L2       0.815900   0.812923     roc_auc       22.947304     101.065753  3326.948161                 2.498697                4.672651          88.111931            2       True         10\n",
      "4      LightGBMXT_BAG_L2       0.815822   0.813486     roc_auc       22.172637     104.779091  3613.816381                 1.724030                8.385989         374.980151            2       True          7\n",
      "5        CatBoost_BAG_L2       0.815784   0.813495     roc_auc       20.696388      96.943154  3500.510975                 0.247781                0.550052         261.674746            2       True          9\n",
      "6    WeightedEnsemble_L2       0.815403   0.813485     roc_auc       17.171540      79.196913  2653.823314                 0.007643                0.080157          11.860718            2       True          6\n",
      "7   LightGBMLarge_BAG_L1       0.814118   0.810530     roc_auc        4.353506      25.104175   722.006305                 4.353506               25.104175         722.006305            1       True          5\n",
      "8      LightGBMXT_BAG_L1       0.814005   0.810579     roc_auc        8.831943      47.090249  1145.591743                 8.831943               47.090249        1145.591743            1       True          1\n",
      "9        CatBoost_BAG_L1       0.813705   0.811511     roc_auc        0.851733       0.647785   647.086580                 0.851733                0.647785         647.086580            1       True          3\n",
      "10        XGBoost_BAG_L1       0.813248   0.810502     roc_auc        3.126715       6.274547   127.277968                 3.126715                6.274547         127.277968            1       True          4\n",
      "11       LightGBM_BAG_L1       0.813190   0.809361     roc_auc        3.284710      17.276347   596.873633                 3.284710               17.276347         596.873633            1       True          2\n",
      "\t1\t = Optimal   num_stack_levels (Stacked Overfitting Occurred: False)\n",
      "\t4943s\t = DyStack   runtime |\t34657s\t = Remaining runtime\n",
      "Starting main fit with num_stack_levels=1.\n",
      "\tFor future fit calls on this dataset, you can skip DyStack to save time: `predictor.fit(..., dynamic_stacking=False, num_stack_levels=1)`\n",
      "Beginning AutoGluon training ... Time limit = 34657s\n",
      "AutoGluon will save models to \"AutogluonModels/ag-20241111_165127\"\n",
      "Train Data Rows:    413194\n",
      "Train Data Columns: 59\n",
      "Label Column:       target\n",
      "Problem Type:       binary\n",
      "Preprocessing data ...\n",
      "Selected class <--> label mapping:  class 1 = 1, class 0 = 0\n",
      "Using Feature Generators to preprocess the data ...\n",
      "Fitting AutoMLPipelineFeatureGenerator...\n",
      "\tAvailable Memory:                    29453.13 MB\n",
      "\tTrain Data (Original)  Memory Usage: 185.99 MB (0.6% of available memory)\n",
      "\tInferring data type of each feature based on column values. Set feature_metadata_in to manually specify special dtypes of the features.\n",
      "\tStage 1 Generators:\n",
      "\t\tFitting AsTypeFeatureGenerator...\n",
      "\tStage 2 Generators:\n",
      "\t\tFitting FillNaFeatureGenerator...\n",
      "\tStage 3 Generators:\n",
      "\t\tFitting IdentityFeatureGenerator...\n",
      "\tStage 4 Generators:\n",
      "\t\tFitting DropUniqueFeatureGenerator...\n",
      "\tStage 5 Generators:\n",
      "\t\tFitting DropDuplicatesFeatureGenerator...\n",
      "\tTypes of features in original data (raw dtype, special dtypes):\n",
      "\t\t('float', []) : 58 | ['feature_168', 'feature_87', 'feature_72', 'feature_124', 'feature_141', ...]\n",
      "\t\t('int', [])   :  1 | ['id']\n",
      "\tTypes of features in processed data (raw dtype, special dtypes):\n",
      "\t\t('float', []) : 58 | ['feature_168', 'feature_87', 'feature_72', 'feature_124', 'feature_141', ...]\n",
      "\t\t('int', [])   :  1 | ['id']\n",
      "\t4.5s = Fit runtime\n",
      "\t59 features in original data used to generate 59 features in processed data.\n",
      "\tTrain Data (Processed) Memory Usage: 185.99 MB (0.6% of available memory)\n",
      "Data preprocessing and feature engineering runtime = 5.24s ...\n",
      "AutoGluon will gauge predictive performance using evaluation metric: 'roc_auc'\n",
      "\tThis metric expects predicted probabilities rather than predicted class labels, so you'll need to use predict_proba() instead of predict()\n",
      "\tTo change this, specify the eval_metric parameter of Predictor()\n",
      "User-specified model hyperparameters to be fit:\n",
      "{\n",
      "\t'CAT': {'auto_class_weights': 'Balanced'},\n",
      "\t'GBM': [{'extra_trees': True, 'ag_args': {'name_suffix': 'XT'}}, {}, 'GBMLarge'],\n",
      "\t'XGB': {},\n",
      "}\n",
      "AutoGluon will fit 2 stack levels (L1 to L2) ...\n",
      "Fitting 5 L1 models ...\n",
      "Fitting model: LightGBMXT_BAG_L1 ... Training model for up to 23095.51s of the 34651.92s of remaining time.\n",
      "\tFitting 8 child models (S1F1 - S1F8) | Fitting with ParallelLocalFoldFittingStrategy (4 workers, per: cpus=1, gpus=0, memory=4.13%)\n",
      "\t0.8114\t = Validation score   (roc_auc)\n",
      "\t1478.36s\t = Training   runtime\n",
      "\t63.49s\t = Validation runtime\n",
      "Fitting model: LightGBM_BAG_L1 ... Training model for up to 21604.6s of the 33161.01s of remaining time.\n",
      "\tFitting 8 child models (S1F1 - S1F8) | Fitting with ParallelLocalFoldFittingStrategy (4 workers, per: cpus=1, gpus=0, memory=4.13%)\n",
      "\t0.8105\t = Validation score   (roc_auc)\n",
      "\t628.22s\t = Training   runtime\n",
      "\t17.33s\t = Validation runtime\n",
      "Fitting model: CatBoost_BAG_L1 ... Training model for up to 20968.48s of the 32524.89s of remaining time.\n",
      "\tFitting 8 child models (S1F1 - S1F8) | Fitting with ParallelLocalFoldFittingStrategy (4 workers, per: cpus=1, gpus=0, memory=4.17%)\n",
      "\t0.812\t = Validation score   (roc_auc)\n",
      "\t646.71s\t = Training   runtime\n",
      "\t0.72s\t = Validation runtime\n",
      "Fitting model: XGBoost_BAG_L1 ... Training model for up to 20315.08s of the 31871.49s of remaining time.\n",
      "\tFitting 8 child models (S1F1 - S1F8) | Fitting with ParallelLocalFoldFittingStrategy (4 workers, per: cpus=1, gpus=0, memory=5.43%)\n",
      "\t0.811\t = Validation score   (roc_auc)\n",
      "\t150.52s\t = Training   runtime\n",
      "\t6.65s\t = Validation runtime\n",
      "Fitting model: LightGBMLarge_BAG_L1 ... Training model for up to 20157.33s of the 31713.74s of remaining time.\n",
      "\tFitting 8 child models (S1F1 - S1F8) | Fitting with ParallelLocalFoldFittingStrategy (4 workers, per: cpus=1, gpus=0, memory=4.25%)\n",
      "\t0.8103\t = Validation score   (roc_auc)\n",
      "\t747.7s\t = Training   runtime\n",
      "\t25.1s\t = Validation runtime\n",
      "Fitting model: WeightedEnsemble_L2 ... Training model for up to 2309.55s of the 30958.21s of remaining time.\n",
      "\tEnsemble Weights: {'LightGBMXT_BAG_L1': 0.286, 'LightGBMLarge_BAG_L1': 0.286, 'XGBoost_BAG_L1': 0.238, 'CatBoost_BAG_L1': 0.143, 'LightGBM_BAG_L1': 0.048}\n",
      "\t0.8139\t = Validation score   (roc_auc)\n",
      "\t11.57s\t = Training   runtime\n",
      "\t0.09s\t = Validation runtime\n",
      "Fitting 5 L2 models ...\n",
      "Fitting model: LightGBMXT_BAG_L2 ... Training model for up to 30946.5s of the 30946.38s of remaining time.\n",
      "\tFitting 8 child models (S1F1 - S1F8) | Fitting with ParallelLocalFoldFittingStrategy (4 workers, per: cpus=1, gpus=0, memory=4.34%)\n",
      "\t0.8142\t = Validation score   (roc_auc)\n",
      "\t466.69s\t = Training   runtime\n",
      "\t11.58s\t = Validation runtime\n",
      "Fitting model: LightGBM_BAG_L2 ... Training model for up to 30472.37s of the 30472.25s of remaining time.\n",
      "\tFitting 8 child models (S1F1 - S1F8) | Fitting with ParallelLocalFoldFittingStrategy (4 workers, per: cpus=1, gpus=0, memory=4.34%)\n",
      "\t0.8138\t = Validation score   (roc_auc)\n",
      "\t359.21s\t = Training   runtime\n",
      "\t6.05s\t = Validation runtime\n",
      "Fitting model: CatBoost_BAG_L2 ... Training model for up to 30106.23s of the 30106.11s of remaining time.\n",
      "\tFitting 8 child models (S1F1 - S1F8) | Fitting with ParallelLocalFoldFittingStrategy (4 workers, per: cpus=1, gpus=0, memory=4.38%)\n",
      "\t0.8139\t = Validation score   (roc_auc)\n",
      "\t321.51s\t = Training   runtime\n",
      "\t0.6s\t = Validation runtime\n",
      "Fitting model: XGBoost_BAG_L2 ... Training model for up to 29777.83s of the 29777.71s of remaining time.\n",
      "\tFitting 8 child models (S1F1 - S1F8) | Fitting with ParallelLocalFoldFittingStrategy (4 workers, per: cpus=1, gpus=0, memory=5.71%)\n",
      "\t0.8136\t = Validation score   (roc_auc)\n",
      "\t99.59s\t = Training   runtime\n",
      "\t5.63s\t = Validation runtime\n",
      "Fitting model: LightGBMLarge_BAG_L2 ... Training model for up to 29670.94s of the 29670.82s of remaining time.\n",
      "\tFitting 8 child models (S1F1 - S1F8) | Fitting with ParallelLocalFoldFittingStrategy (4 workers, per: cpus=1, gpus=0, memory=4.46%)\n",
      "\t0.8127\t = Validation score   (roc_auc)\n",
      "\t551.41s\t = Training   runtime\n",
      "\t14.95s\t = Validation runtime\n",
      "Fitting model: WeightedEnsemble_L3 ... Training model for up to 3094.65s of the 29112.09s of remaining time.\n",
      "\tEnsemble Weights: {'LightGBMXT_BAG_L2': 0.48, 'LightGBM_BAG_L2': 0.2, 'XGBoost_BAG_L2': 0.2, 'CatBoost_BAG_L1': 0.04, 'CatBoost_BAG_L2': 0.04, 'LightGBMLarge_BAG_L2': 0.04}\n",
      "\t0.8145\t = Validation score   (roc_auc)\n",
      "\t25.81s\t = Training   runtime\n",
      "\t0.09s\t = Validation runtime\n",
      "AutoGluon training complete, total runtime = 5571.85s ... Best model: WeightedEnsemble_L3 | Estimated inference throughput: 339.6 rows/s (51650 batch size)\n",
      "TabularPredictor saved. To load, use: predictor = TabularPredictor.load(\"AutogluonModels/ag-20241111_165127\")\n"
     ]
    },
    {
     "data": {
      "text/plain": [
       "<autogluon.tabular.predictor.predictor.TabularPredictor at 0x7c45ba53a920>"
      ]
     },
     "execution_count": 13,
     "metadata": {},
     "output_type": "execute_result"
    }
   ],
   "source": [
    "predictor = TabularPredictor(label='target', eval_metric='roc_auc', problem_type='binary')\n",
    "\n",
    "predictor.fit(\n",
    "    train_tab, \n",
    "    time_limit=3600*11,\n",
    "    hyperparameters={\n",
    "        'CAT': {'auto_class_weights': 'Balanced'},\n",
    "        'GBM': [{'extra_trees': True, 'ag_args': {'name_suffix': 'XT'}}, {}, 'GBMLarge'],\n",
    "        'XGB': {}\n",
    "    },\n",
    "    # ag_args_fit={'num_gpus': 1},\n",
    "    # num_gpus=1,\n",
    "    presets='best_quality'\n",
    ")"
   ]
  },
  {
   "cell_type": "code",
   "execution_count": 14,
   "id": "64a8c670",
   "metadata": {
    "collapsed": true,
    "execution": {
     "iopub.execute_input": "2024-11-11T19:46:42.688478Z",
     "iopub.status.busy": "2024-11-11T19:46:42.678474Z",
     "iopub.status.idle": "2024-11-11T19:48:20.662690Z",
     "shell.execute_reply": "2024-11-11T19:48:20.661543Z"
    },
    "jupyter": {
     "outputs_hidden": true
    },
    "papermill": {
     "duration": 98.032256,
     "end_time": "2024-11-11T19:48:20.665380",
     "exception": false,
     "start_time": "2024-11-11T19:46:42.633124",
     "status": "completed"
    },
    "tags": []
   },
   "outputs": [],
   "source": [
    "pred = predictor.predict_proba(test_tab)[1].tolist()"
   ]
  },
  {
   "cell_type": "code",
   "execution_count": null,
   "id": "01a678b8",
   "metadata": {
    "execution": {
     "iopub.execute_input": "2024-11-11T19:48:20.737609Z",
     "iopub.status.busy": "2024-11-11T19:48:20.736546Z",
     "iopub.status.idle": "2024-11-11T19:48:21.521523Z",
     "shell.execute_reply": "2024-11-11T19:48:21.520266Z"
    },
    "papermill": {
     "duration": 0.824487,
     "end_time": "2024-11-11T19:48:21.524154",
     "exception": false,
     "start_time": "2024-11-11T19:48:20.699667",
     "status": "completed"
    },
    "tags": []
   },
   "outputs": [],
   "source": [
    "import csv\n",
    "\n",
    "data = [\n",
    "    {\n",
    "        'id': id_value,\n",
    "        'target': pred_value   \n",
    "    } \n",
    "    for id_value, pred_value in zip(ids, pred)\n",
    "]\n",
    "\n",
    "csv_filename = 'submission_autogluon.csv'\n",
    "\n",
    "with open(csv_filename, mode='w', newline='', encoding='utf-8') as file:\n",
    "    fieldnames = ['id', 'target']\n",
    "    writer = csv.DictWriter(file, fieldnames=fieldnames)\n",
    "\n",
    "    writer.writeheader()\n",
    "\n",
    "    for row in data:\n",
    "        writer.writerow(row)"
   ]
  }
 ],
 "metadata": {
  "kaggle": {
   "accelerator": "none",
   "dataSources": [
    {
     "datasetId": 5397822,
     "sourceId": 8966877,
     "sourceType": "datasetVersion"
    },
    {
     "datasetId": 5398217,
     "sourceId": 8967399,
     "sourceType": "datasetVersion"
    },
    {
     "datasetId": 5993029,
     "sourceId": 9782155,
     "sourceType": "datasetVersion"
    }
   ],
   "dockerImageVersionId": 30786,
   "isGpuEnabled": false,
   "isInternetEnabled": true,
   "language": "python",
   "sourceType": "notebook"
  },
  "kernelspec": {
   "display_name": "Python 3",
   "language": "python",
   "name": "python3"
  },
  "language_info": {
   "codemirror_mode": {
    "name": "ipython",
    "version": 3
   },
   "file_extension": ".py",
   "mimetype": "text/x-python",
   "name": "python",
   "nbconvert_exporter": "python",
   "pygments_lexer": "ipython3",
   "version": "3.10.14"
  },
  "papermill": {
   "default_parameters": {},
   "duration": 10957.949155,
   "end_time": "2024-11-11T19:48:26.695230",
   "environment_variables": {},
   "exception": null,
   "input_path": "__notebook__.ipynb",
   "output_path": "__notebook__.ipynb",
   "parameters": {},
   "start_time": "2024-11-11T16:45:48.746075",
   "version": "2.6.0"
  }
 },
 "nbformat": 4,
 "nbformat_minor": 5
}
