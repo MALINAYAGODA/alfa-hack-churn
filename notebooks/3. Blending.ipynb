{
 "cells": [
  {
   "cell_type": "code",
   "execution_count": null,
   "id": "c14d5bb8",
   "metadata": {
    "_cell_guid": "b1076dfc-b9ad-4769-8c92-a6c4dae69d19",
    "_uuid": "8f2839f25d086af736a60e9eeb907d3b93b6e0e5",
    "execution": {
     "iopub.execute_input": "2024-11-07T18:12:59.987138Z",
     "iopub.status.busy": "2024-11-07T18:12:59.986503Z",
     "iopub.status.idle": "2024-11-07T18:13:01.450873Z",
     "shell.execute_reply": "2024-11-07T18:13:01.448756Z"
    },
    "papermill": {
     "duration": 1.474701,
     "end_time": "2024-11-07T18:13:01.454524",
     "exception": false,
     "start_time": "2024-11-07T18:12:59.979823",
     "status": "completed"
    },
    "tags": []
   },
   "outputs": [],
   "source": [
    "import pandas as pd"
   ]
  },
  {
   "cell_type": "code",
   "execution_count": null,
   "id": "ebbbf1db",
   "metadata": {
    "execution": {
     "iopub.execute_input": "2024-11-07T18:13:01.465653Z",
     "iopub.status.busy": "2024-11-07T18:13:01.463999Z",
     "iopub.status.idle": "2024-11-07T18:13:01.664250Z",
     "shell.execute_reply": "2024-11-07T18:13:01.662368Z"
    },
    "papermill": {
     "duration": 0.209587,
     "end_time": "2024-11-07T18:13:01.668028",
     "exception": false,
     "start_time": "2024-11-07T18:13:01.458441",
     "status": "completed"
    },
    "tags": []
   },
   "outputs": [],
   "source": [
    "lama = pd.read_csv('submission_laml.csv')\n",
    "lama['id'] = lama['id'].astype(int)"
   ]
  },
  {
   "cell_type": "code",
   "execution_count": null,
   "id": "943532c0",
   "metadata": {
    "execution": {
     "iopub.execute_input": "2024-11-07T18:13:01.678957Z",
     "iopub.status.busy": "2024-11-07T18:13:01.677358Z",
     "iopub.status.idle": "2024-11-07T18:13:01.829080Z",
     "shell.execute_reply": "2024-11-07T18:13:01.827623Z"
    },
    "papermill": {
     "duration": 0.16095,
     "end_time": "2024-11-07T18:13:01.832630",
     "exception": false,
     "start_time": "2024-11-07T18:13:01.671680",
     "status": "completed"
    },
    "tags": []
   },
   "outputs": [],
   "source": [
    "ag = pd.read_csv('submission_autogluon.csv')\n",
    "ag['id'] = ag['id'].astype(int)"
   ]
  },
  {
   "cell_type": "code",
   "execution_count": 4,
   "id": "dda87332",
   "metadata": {
    "execution": {
     "iopub.execute_input": "2024-11-07T18:13:01.842437Z",
     "iopub.status.busy": "2024-11-07T18:13:01.841913Z",
     "iopub.status.idle": "2024-11-07T18:13:01.855800Z",
     "shell.execute_reply": "2024-11-07T18:13:01.853604Z"
    },
    "papermill": {
     "duration": 0.023498,
     "end_time": "2024-11-07T18:13:01.859697",
     "exception": false,
     "start_time": "2024-11-07T18:13:01.836199",
     "status": "completed"
    },
    "tags": []
   },
   "outputs": [],
   "source": [
    "lama['target'] = (lama['target'] * 0.6 + ag['target'] * 0.4)"
   ]
  },
  {
   "cell_type": "code",
   "execution_count": null,
   "id": "a93a84a7",
   "metadata": {
    "execution": {
     "iopub.execute_input": "2024-11-07T18:13:01.870326Z",
     "iopub.status.busy": "2024-11-07T18:13:01.869400Z",
     "iopub.status.idle": "2024-11-07T18:13:02.344733Z",
     "shell.execute_reply": "2024-11-07T18:13:02.343155Z"
    },
    "papermill": {
     "duration": 0.484834,
     "end_time": "2024-11-07T18:13:02.348162",
     "exception": false,
     "start_time": "2024-11-07T18:13:01.863328",
     "status": "completed"
    },
    "tags": []
   },
   "outputs": [],
   "source": [
    "lama.to_csv('submission_final.csv', index=False)"
   ]
  }
 ],
 "metadata": {
  "kaggle": {
   "accelerator": "none",
   "dataSources": [
    {
     "datasetId": 5993029,
     "sourceId": 9782155,
     "sourceType": "datasetVersion"
    },
    {
     "datasetId": 5998168,
     "sourceId": 9789137,
     "sourceType": "datasetVersion"
    },
    {
     "datasetId": 5998198,
     "sourceId": 9789171,
     "sourceType": "datasetVersion"
    },
    {
     "datasetId": 6000604,
     "sourceId": 9792490,
     "sourceType": "datasetVersion"
    },
    {
     "datasetId": 6000643,
     "sourceId": 9792544,
     "sourceType": "datasetVersion"
    },
    {
     "datasetId": 6000940,
     "sourceId": 9792928,
     "sourceType": "datasetVersion"
    },
    {
     "datasetId": 6001376,
     "sourceId": 9793500,
     "sourceType": "datasetVersion"
    },
    {
     "datasetId": 6001517,
     "sourceId": 9793687,
     "sourceType": "datasetVersion"
    },
    {
     "datasetId": 6001521,
     "sourceId": 9793694,
     "sourceType": "datasetVersion"
    },
    {
     "datasetId": 6006285,
     "sourceId": 9800285,
     "sourceType": "datasetVersion"
    },
    {
     "datasetId": 6013519,
     "sourceId": 9809880,
     "sourceType": "datasetVersion"
    },
    {
     "datasetId": 6013549,
     "sourceId": 9809915,
     "sourceType": "datasetVersion"
    },
    {
     "datasetId": 6021094,
     "sourceId": 9820001,
     "sourceType": "datasetVersion"
    },
    {
     "datasetId": 6021130,
     "sourceId": 9820047,
     "sourceType": "datasetVersion"
    }
   ],
   "dockerImageVersionId": 30786,
   "isGpuEnabled": false,
   "isInternetEnabled": true,
   "language": "python",
   "sourceType": "notebook"
  },
  "kernelspec": {
   "display_name": "Python 3",
   "language": "python",
   "name": "python3"
  },
  "language_info": {
   "codemirror_mode": {
    "name": "ipython",
    "version": 3
   },
   "file_extension": ".py",
   "mimetype": "text/x-python",
   "name": "python",
   "nbconvert_exporter": "python",
   "pygments_lexer": "ipython3",
   "version": "3.10.14"
  },
  "papermill": {
   "default_parameters": {},
   "duration": 7.035187,
   "end_time": "2024-11-07T18:13:02.978094",
   "environment_variables": {},
   "exception": null,
   "input_path": "__notebook__.ipynb",
   "output_path": "__notebook__.ipynb",
   "parameters": {},
   "start_time": "2024-11-07T18:12:55.942907",
   "version": "2.6.0"
  }
 },
 "nbformat": 4,
 "nbformat_minor": 5
}
